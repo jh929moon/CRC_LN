{
 "cells": [
  {
   "cell_type": "code",
   "execution_count": 1,
   "id": "644c3602",
   "metadata": {},
   "outputs": [
    {
     "name": "stdout",
     "output_type": "stream",
     "text": [
      "All data has been merged into Y_734_merged_data.csv\n"
     ]
    }
   ],
   "source": [
    "import pandas as pd\n",
    "import glob\n",
    "\n",
    "# S_Data 폴더 내의 모든 .csv 파일에 대한 경로 리스트를 생성\n",
    "csv_files = glob.glob('Y_data_734_240422/*.csv')\n",
    "\n",
    "# 모든 데이터를 저장할 빈 데이터프레임 생성\n",
    "all_data = pd.DataFrame()\n",
    "\n",
    "# 각 파일을 순회하며 데이터프레임으로 읽고 all_data에 병합\n",
    "for file in csv_files:\n",
    "    # CSV 파일을 읽어 데이터프레임 생성\n",
    "    df = pd.read_csv(file)\n",
    "    \n",
    "    # all_data 데이터프레임에 현재 파일의 데이터를 추가\n",
    "    all_data = pd.concat([all_data, df], ignore_index=True)\n",
    "\n",
    "# 결과를 CSV 파일로 저장\n",
    "output_filename = 'Y_734_merged_data.csv'\n",
    "all_data.to_csv(output_filename, index=False)\n",
    "\n",
    "print(f\"All data has been merged into {output_filename}\")"
   ]
  },
  {
   "cell_type": "code",
   "execution_count": 2,
   "id": "a3a2f1fd",
   "metadata": {},
   "outputs": [
    {
     "name": "stdout",
     "output_type": "stream",
     "text": [
      "All data has been merged into Y_734_merged_data_Snumber.csv\n"
     ]
    }
   ],
   "source": [
    "# 'Image' 열의 앞 10자리를 기준으로 새로운 'S_number' 열을 생성합니다.\n",
    "all_data['S_number'] = all_data['Image'].str[:10]\n",
    "\n",
    "# 결과를 CSV 파일로 저장\n",
    "output_filename = 'Y_734_merged_data_Snumber.csv'\n",
    "all_data.to_csv(output_filename, index=False)\n",
    "\n",
    "print(f\"All data has been merged into {output_filename}\")"
   ]
  },
  {
   "cell_type": "code",
   "execution_count": 3,
   "id": "7d274bf3",
   "metadata": {},
   "outputs": [
    {
     "name": "stdout",
     "output_type": "stream",
     "text": [
      "All data has ben merged into Y_734_merged_data_S_subnumber.csv\n"
     ]
    }
   ],
   "source": [
    "# 'Image' 열의 앞 13자리를 기준으로 새로운 'S_number_sub' 열을 생성합니다.\n",
    "\n",
    "all_data['S_number_sub'] = all_data['Image'].str[:13]\n",
    "\n",
    "# 결과를 CSV 파일로 저장\n",
    "output_filename = 'Y_734_merged_data_S_subnumber.csv'\n",
    "all_data.to_csv(output_filename, index=False)\n",
    "\n",
    "print(f\"All data has ben merged into {output_filename}\")\n"
   ]
  },
  {
   "cell_type": "code",
   "execution_count": 4,
   "id": "74243e26",
   "metadata": {},
   "outputs": [
    {
     "name": "stdout",
     "output_type": "stream",
     "text": [
      "     S_number  LN_count\n",
      "0  SS09-01238        24\n",
      "1  SS09-57601        24\n",
      "2  SS10-08411        63\n",
      "3  SS10-10419        44\n",
      "4  SS10-16863        51\n"
     ]
    }
   ],
   "source": [
    "import pandas as pd\n",
    "\n",
    "# Load the file\n",
    "file_path = 'Y_734_merged_data_S_subnumber.csv'  # 파일 경로를 여기에 입력하세요.\n",
    "df = pd.read_csv(file_path)\n",
    "\n",
    "# Correcting the column names by removing leading spaces\n",
    "df.columns = df.columns.str.strip()\n",
    "\n",
    "# Step 1: Find the maximum 'LN_count' for each 'S_number_sub'\n",
    "max_ln_count_per_sub = df.groupby('S_number_sub')['LN_count'].max().reset_index()\n",
    "\n",
    "# Merge this back with the original dataframe to get corresponding 'S_number_' for each 'S_number_sub'\n",
    "# and drop duplicates to ensure that each 'S_number_sub' contributes only its maximum 'LN_count' once\n",
    "merged_df = pd.merge(df[['S_number', 'S_number_sub']], max_ln_count_per_sub, on='S_number_sub')\n",
    "merged_df.drop_duplicates(subset='S_number_sub', inplace=True)\n",
    "\n",
    "# Step 2: Sum these maximum 'LN_count' values for each 'S_number_'\n",
    "sum_max_ln_count_per_number = merged_df.groupby('S_number')['LN_count'].sum().reset_index()\n",
    "\n",
    "# Save the result to a new CSV file\n",
    "output_filename = 'Y_734_data_LNcount.csv' \n",
    "sum_max_ln_count_per_number.to_csv(output_filename, index=False)\n",
    "\n",
    "# Displaying the first few rows of the resulting dataframe\n",
    "print(sum_max_ln_count_per_number.head())"
   ]
  },
  {
   "cell_type": "code",
   "execution_count": 5,
   "id": "e9ed784b",
   "metadata": {},
   "outputs": [
    {
     "name": "stdout",
     "output_type": "stream",
     "text": [
      "Aggregated data has been saved to Y_734_aggregated_data.xlsx\n"
     ]
    }
   ],
   "source": [
    "import pandas as pd\n",
    "\n",
    "# 엑셀 파일 읽기\n",
    "df = pd.read_csv('Y_734_merged_data_Snumber.csv')\n",
    "\n",
    "# S_number 별로 각각의 계산 수행\n",
    "T_LN_count = df.groupby('S_number')[' LN_count'].max()\n",
    "T_LN_area_max = df.groupby('S_number')[' LN_area'].max()\n",
    "T_LN_area_sum = df.groupby('S_number')[' LN_area'].sum()\n",
    "T_LN_perimeter_max = df.groupby('S_number')[' LN_perimeter'].max()\n",
    "T_LN_perimeter_sum = df.groupby('S_number')[' LN_perimeter'].sum()\n",
    "T_Tumor_area_max = df.groupby('S_number')[' Tumor_area_max'].max()\n",
    "T_Tumor_area_sum = df.groupby('S_number')[' Tumor_area_sum'].sum()\n",
    "T_GC_num = df.groupby('S_number')[' GC_count'].sum()\n",
    "T_GC_area_max = df.groupby('S_number')[' GC_area_max'].max()\n",
    "T_GC_area_sum = df.groupby('S_number')[' GC_area_sum'].sum()\n",
    "T_GC_dia_max = df.groupby('S_number')[' GC_Max_diameter_MAX'].max()\n",
    "T_GC_dia_sum = df.groupby('S_number')[' GC_Max_diameter_sum'].sum()\n",
    "T_GC_perimeter_max = df.groupby('S_number')[' GC_perimeter_sum'].max()\n",
    "T_GC_perimeter_sum = df.groupby('S_number')[' GC_perimeter_sum'].sum()\n",
    "\n",
    "# 결과를 데이터프레임으로 생성\n",
    "result = pd.DataFrame({\n",
    "'LN_count': T_LN_count,\n",
    "'LN_area_max': T_LN_area_max,\n",
    "'LN_area_sum': T_LN_area_sum,\n",
    "'LN_perimeter_max': T_GC_perimeter_max,\n",
    "'LN_perimeter_sum': T_LN_perimeter_sum,\n",
    "'Tumor_area_max': T_Tumor_area_max,\n",
    "'Tumor_area_sum': T_Tumor_area_sum,\n",
    "'GC_num': T_GC_num,\n",
    "'GC_area_max': T_GC_area_max,\n",
    "'GC_area_sum': T_GC_area_sum,\n",
    "'GC_dia_max': T_GC_dia_max,\n",
    "'GC_dia_sum': T_GC_dia_sum,\n",
    "'GC_peri_max': T_GC_perimeter_max,\n",
    "'GC_peri_sum': T_GC_perimeter_sum,\n",
    "})\n",
    "\n",
    "# 결과 데이터프레임을 엑셀 파일로 저장\n",
    "output_filename = 'Y_734_aggregated_data.xlsx'\n",
    "result.to_excel(output_filename)\n",
    "\n",
    "print(f\"Aggregated data has been saved to {output_filename}\")"
   ]
  },
  {
   "cell_type": "code",
   "execution_count": null,
   "id": "6c5782ed",
   "metadata": {},
   "outputs": [],
   "source": []
  },
  {
   "cell_type": "code",
   "execution_count": null,
   "id": "37fa40f6",
   "metadata": {},
   "outputs": [],
   "source": []
  }
 ],
 "metadata": {
  "kernelspec": {
   "display_name": "Python 3 (ipykernel)",
   "language": "python",
   "name": "python3"
  },
  "language_info": {
   "codemirror_mode": {
    "name": "ipython",
    "version": 3
   },
   "file_extension": ".py",
   "mimetype": "text/x-python",
   "name": "python",
   "nbconvert_exporter": "python",
   "pygments_lexer": "ipython3",
   "version": "3.11.3"
  }
 },
 "nbformat": 4,
 "nbformat_minor": 5
}
